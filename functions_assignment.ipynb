{
  "nbformat": 4,
  "nbformat_minor": 0,
  "metadata": {
    "colab": {
      "provenance": []
    },
    "kernelspec": {
      "name": "python3",
      "display_name": "Python 3"
    },
    "language_info": {
      "name": "python"
    }
  },
  "cells": [
    {
      "cell_type": "markdown",
      "source": [
        "1. What is the difference between a function and a method in Python?\n",
        "\n",
        "ans- The key difference between a function and a method in Python lies in their association with objects:\n",
        "\n",
        " a)Function:\n",
        "\n",
        "  A function is a standalone block of code that performs a specific task.\n",
        "\n",
        " It is defined using the def keyword and can be called independently.\n",
        "\n",
        " b)Method:\n",
        "\n",
        " A method is a function that belongs to an object (typically a class instance).\n",
        "\n",
        "It is called using dot notation on an object and often operates on that object’s data.\n",
        "\n",
        "Methods are defined inside a class and usually take self as the first parameter.\n",
        "\n",
        "2.  Explain the concept of function arguments and parameters in Python.\n",
        "\n",
        "ans- In Python, parameters and arguments are terms related to functions, but they have distinct meanings:\n",
        "\n",
        "Parameters:\n",
        "\n",
        "These are the placeholders (variable names) defined in the function signature.\n",
        "\n",
        "They specify what inputs the function expects.\n",
        "\n",
        "Arguments:\n",
        "\n",
        "These are the actual values passed to the function when it is called.\n",
        "They replace the parameters at runtime.\n",
        "\n",
        "3. What are the different ways to define and call a function in Python?\n",
        "\n",
        "ans- Python provides multiple ways to define and call functions, making it a flexible language for different programming styles.\n",
        "\n",
        "a)Normal Function Definition & Call:\n",
        "\n",
        "The standard way to define and call a function using the def keyword.\n",
        "\n",
        "b)Function with Default Parameters:\n",
        "\n",
        "A function can have default arguments, which provide default values if no argument is passed.\n",
        "\n",
        "c)Function with Variable Arguments (*args):\n",
        "\n",
        "Used when the number of arguments is unknown. The *args parameter collects multiple positional arguments into a tuple.\n",
        "\n",
        "d)Lambda (Anonymous) Function:\n",
        "\n",
        "A lambda function is a one-line anonymous function defined using lambda.\n",
        "\n",
        "e)Function as an Argument:\n",
        "\n",
        "Functions can be passed as arguments to other functions.\n",
        "\n",
        "f)Function with return Multiple Values:\n",
        "\n",
        "Python allows functions to return multiple values as a tuple.\n",
        "\n",
        "g)Nested Function (Function inside a Function):\n",
        "\n",
        "A function can be defined inside another function.\n",
        "\n",
        "h)Recursive Function (Function Calling Itself):\n",
        "\n",
        "A function can call itself for solving problems like factorial calculation.\n",
        "\n",
        "i)Class Method (@classmethod):\n",
        "\n",
        "A class method works on the class rather than instances.\n",
        "\n",
        "j) Static Method (@staticmethod):\n",
        "\n",
        "A static method does not access class or instance variables.\n",
        "\n",
        "4. What is the purpose of the `return` statement in a Python function?\n",
        "\n",
        "ans-  Purpose of the return Statement in Python Functions\n",
        "The return statement in Python is used to exit a function and send back a value to the caller. It plays a crucial role in making functions reusable and efficient.\n",
        "\n",
        "5. What are iterators in Python and how do they differ from iterables?\n",
        "\n",
        "ans- In Python, iterables and iterators are closely related but have distinct roles in iteration.\n",
        "\n",
        "a) What is an Iterable?\n",
        "\n",
        "An iterable is any object that can return an iterator. It contains data that can be iterated over, like lists, tuples, dictionaries, sets, and strings.\n",
        "\n",
        "Characteristics of Iterables:\n",
        "it Can be looped over using for loops.\n",
        "it Implements the __iter__() method, which returns an iterator.\n",
        "\n",
        "b)What is an Iterator?\n",
        "\n",
        "An iterator is an object that remembers its state and returns the next value when called using next().\n",
        "\n",
        "Characteristics of Iterators:\n",
        "it Implements both __iter__() and __next__() methods.\n",
        "it Keeps track of where it is during iteration.\n",
        "it Can be exhausted (once it reaches the end, it cannot be reset).\n",
        "\n",
        "\n",
        "6.  Explain the concept of generators in Python and how they are defined.\n",
        "\n",
        "ans- Generators in Python are a special type of iterator that allow you to iterate over data lazily (one item at a time) without storing everything in memory. They are useful for handling large datasets efficiently.\n",
        "Generators in Python are a special type of iterator that allow you to iterate over data lazily (one item at a time) without storing everything in memory. They are useful for handling large datasets efficiently.\n",
        "\n",
        "In python a generator is defined just like a function but uses yield instead of return.\n",
        "\n",
        "7. What are the advantages of using generators over regular functions?\n",
        "\n",
        "ans- Advantages of Using Generators Over Regular Functions\n",
        "Generators in Python offer several advantages over regular functions, especially when working with large datasets or streaming data. Here’s why they are beneficial:\n",
        "\n",
        "a)Memory Efficiency\n",
        "\n",
        "b)Faster Execution\n",
        "\n",
        "c)Infinite Sequences\n",
        "\n",
        "d)Simplified Code\n",
        "\n",
        "e) No Need for Intermediate Storage\n",
        "\n",
        "f)Iteration Control\n",
        "\n",
        "8. What is a lambda function in Python and when is it typically used?\n",
        "\n",
        "ans- A lambda function in Python is a small, anonymous function defined using the lambda keyword. Unlike regular functions (def), lambda functions have no name and are typically used for short, simple operations.\n",
        "\n",
        "The typical used for lamda are:\n",
        "\n",
        "a)Syntax of a Lambda Function:\n",
        "\n",
        "\n",
        "Can take any number of arguments, but only one expression.\n",
        "\n",
        "Automatically returns the result of the expression.\n",
        "\n",
        "Cannot contain multiple statements or complex logic.\n",
        "\n",
        "b)When to Use Lambda Functions?\n",
        "\n",
        "Lambda functions are used when a short function is needed temporarily and defining a full function with def would be unnecessary.\n",
        "\n",
        "c) Used in filter() for Conditional Selection\n",
        "\n",
        "The lambda function filters out only even numbers.\n",
        "\n",
        "d) Used in sorted() for Custom Sorting\n",
        "\n",
        "e)Used in reduce() for Cumulative Computation.\n",
        "\n",
        "9.  Explain the purpose and usage of the `map()` function in Python.\n",
        "\n",
        "ans- Map() Function in Python:\n",
        "\n",
        "The map() function in Python is used to apply a function to every item in an iterable (e.g., list, tuple, etc.) and return a new iterable (map object). This is useful for transforming data efficiently without using loops.\n",
        "\n",
        "uses of map() function in python :\n",
        "\n",
        "a)Syntax of map()\n",
        "\n",
        "b)Basic Example of map()\n",
        "\n",
        "c)Using map() with a Regular Function\n",
        "\n",
        "d)Using map() with Multiple Iterables:\n",
        "\n",
        "-You can use map() with multiple iterables (lists, tuples, etc.).\n",
        "\n",
        "e)Converting Data Types with map()\n",
        "\n",
        "f)Using map() with Built-in Functions\n",
        "\n",
        "10. What is the difference between `map()`, `reduce()`, and `filter()` functions in Python?\n",
        "\n",
        "ans- Difference Between map(), reduce(), and filter() in Python\n",
        "These three functions—map(), filter(), and reduce()—are part of Python’s functional programming tools. They operate on iterables and apply functions efficiently. Let’s break down their differences with examples.\n",
        "\n",
        "a)map() Applies a Function to Each Element\n",
        "\n",
        "Purpose: Transforms every element in an iterable using a function.\n",
        "\n",
        "Returns: A new iterable (map object) with transformed values.\n",
        "\n",
        "b)filter() Filters Elements Based on a Condition\n",
        "\n",
        " Purpose: Removes elements that do not satisfy a given condition.\n",
        "\n",
        "Returns: A new iterable (filter object) with only the elements that passed the condition.\n",
        "\n",
        "c) reduce() Applies a Function Cumulatively\n",
        "\n",
        "Purpose: Repeatedly applies a function, reducing the iterable to a single value.\n",
        "\n",
        " Returns: A single result instead of a list.\n",
        "\n",
        "11. Using pen & Paper write the internal mechanism for sum operation using  reduce function on this given\n",
        "list:[47,11,42,13];\n",
        "\n",
        "ans-\n",
        "\n",
        "\n",
        "\n",
        "\n"
      ],
      "metadata": {
        "id": "PsDmO4yqCict"
      }
    },
    {
      "cell_type": "code",
      "source": [
        "from google.colab import files\n",
        "\n",
        "uploaded = files.upload()\n",
        "\n",
        "for file_name in uploaded.keys():\n",
        "    print(f\"Uploaded file: {file_name}\")\n"
      ],
      "metadata": {
        "colab": {
          "base_uri": "https://localhost:8080/",
          "height": 92
        },
        "id": "YVP25IWXTppF",
        "outputId": "5a2b362c-43ca-4550-cc0d-10573379cf53"
      },
      "execution_count": 1,
      "outputs": [
        {
          "output_type": "display_data",
          "data": {
            "text/plain": [
              "<IPython.core.display.HTML object>"
            ],
            "text/html": [
              "\n",
              "     <input type=\"file\" id=\"files-c14be116-286a-45dc-bdb7-bc14f9acc9f4\" name=\"files[]\" multiple disabled\n",
              "        style=\"border:none\" />\n",
              "     <output id=\"result-c14be116-286a-45dc-bdb7-bc14f9acc9f4\">\n",
              "      Upload widget is only available when the cell has been executed in the\n",
              "      current browser session. Please rerun this cell to enable.\n",
              "      </output>\n",
              "      <script>// Copyright 2017 Google LLC\n",
              "//\n",
              "// Licensed under the Apache License, Version 2.0 (the \"License\");\n",
              "// you may not use this file except in compliance with the License.\n",
              "// You may obtain a copy of the License at\n",
              "//\n",
              "//      http://www.apache.org/licenses/LICENSE-2.0\n",
              "//\n",
              "// Unless required by applicable law or agreed to in writing, software\n",
              "// distributed under the License is distributed on an \"AS IS\" BASIS,\n",
              "// WITHOUT WARRANTIES OR CONDITIONS OF ANY KIND, either express or implied.\n",
              "// See the License for the specific language governing permissions and\n",
              "// limitations under the License.\n",
              "\n",
              "/**\n",
              " * @fileoverview Helpers for google.colab Python module.\n",
              " */\n",
              "(function(scope) {\n",
              "function span(text, styleAttributes = {}) {\n",
              "  const element = document.createElement('span');\n",
              "  element.textContent = text;\n",
              "  for (const key of Object.keys(styleAttributes)) {\n",
              "    element.style[key] = styleAttributes[key];\n",
              "  }\n",
              "  return element;\n",
              "}\n",
              "\n",
              "// Max number of bytes which will be uploaded at a time.\n",
              "const MAX_PAYLOAD_SIZE = 100 * 1024;\n",
              "\n",
              "function _uploadFiles(inputId, outputId) {\n",
              "  const steps = uploadFilesStep(inputId, outputId);\n",
              "  const outputElement = document.getElementById(outputId);\n",
              "  // Cache steps on the outputElement to make it available for the next call\n",
              "  // to uploadFilesContinue from Python.\n",
              "  outputElement.steps = steps;\n",
              "\n",
              "  return _uploadFilesContinue(outputId);\n",
              "}\n",
              "\n",
              "// This is roughly an async generator (not supported in the browser yet),\n",
              "// where there are multiple asynchronous steps and the Python side is going\n",
              "// to poll for completion of each step.\n",
              "// This uses a Promise to block the python side on completion of each step,\n",
              "// then passes the result of the previous step as the input to the next step.\n",
              "function _uploadFilesContinue(outputId) {\n",
              "  const outputElement = document.getElementById(outputId);\n",
              "  const steps = outputElement.steps;\n",
              "\n",
              "  const next = steps.next(outputElement.lastPromiseValue);\n",
              "  return Promise.resolve(next.value.promise).then((value) => {\n",
              "    // Cache the last promise value to make it available to the next\n",
              "    // step of the generator.\n",
              "    outputElement.lastPromiseValue = value;\n",
              "    return next.value.response;\n",
              "  });\n",
              "}\n",
              "\n",
              "/**\n",
              " * Generator function which is called between each async step of the upload\n",
              " * process.\n",
              " * @param {string} inputId Element ID of the input file picker element.\n",
              " * @param {string} outputId Element ID of the output display.\n",
              " * @return {!Iterable<!Object>} Iterable of next steps.\n",
              " */\n",
              "function* uploadFilesStep(inputId, outputId) {\n",
              "  const inputElement = document.getElementById(inputId);\n",
              "  inputElement.disabled = false;\n",
              "\n",
              "  const outputElement = document.getElementById(outputId);\n",
              "  outputElement.innerHTML = '';\n",
              "\n",
              "  const pickedPromise = new Promise((resolve) => {\n",
              "    inputElement.addEventListener('change', (e) => {\n",
              "      resolve(e.target.files);\n",
              "    });\n",
              "  });\n",
              "\n",
              "  const cancel = document.createElement('button');\n",
              "  inputElement.parentElement.appendChild(cancel);\n",
              "  cancel.textContent = 'Cancel upload';\n",
              "  const cancelPromise = new Promise((resolve) => {\n",
              "    cancel.onclick = () => {\n",
              "      resolve(null);\n",
              "    };\n",
              "  });\n",
              "\n",
              "  // Wait for the user to pick the files.\n",
              "  const files = yield {\n",
              "    promise: Promise.race([pickedPromise, cancelPromise]),\n",
              "    response: {\n",
              "      action: 'starting',\n",
              "    }\n",
              "  };\n",
              "\n",
              "  cancel.remove();\n",
              "\n",
              "  // Disable the input element since further picks are not allowed.\n",
              "  inputElement.disabled = true;\n",
              "\n",
              "  if (!files) {\n",
              "    return {\n",
              "      response: {\n",
              "        action: 'complete',\n",
              "      }\n",
              "    };\n",
              "  }\n",
              "\n",
              "  for (const file of files) {\n",
              "    const li = document.createElement('li');\n",
              "    li.append(span(file.name, {fontWeight: 'bold'}));\n",
              "    li.append(span(\n",
              "        `(${file.type || 'n/a'}) - ${file.size} bytes, ` +\n",
              "        `last modified: ${\n",
              "            file.lastModifiedDate ? file.lastModifiedDate.toLocaleDateString() :\n",
              "                                    'n/a'} - `));\n",
              "    const percent = span('0% done');\n",
              "    li.appendChild(percent);\n",
              "\n",
              "    outputElement.appendChild(li);\n",
              "\n",
              "    const fileDataPromise = new Promise((resolve) => {\n",
              "      const reader = new FileReader();\n",
              "      reader.onload = (e) => {\n",
              "        resolve(e.target.result);\n",
              "      };\n",
              "      reader.readAsArrayBuffer(file);\n",
              "    });\n",
              "    // Wait for the data to be ready.\n",
              "    let fileData = yield {\n",
              "      promise: fileDataPromise,\n",
              "      response: {\n",
              "        action: 'continue',\n",
              "      }\n",
              "    };\n",
              "\n",
              "    // Use a chunked sending to avoid message size limits. See b/62115660.\n",
              "    let position = 0;\n",
              "    do {\n",
              "      const length = Math.min(fileData.byteLength - position, MAX_PAYLOAD_SIZE);\n",
              "      const chunk = new Uint8Array(fileData, position, length);\n",
              "      position += length;\n",
              "\n",
              "      const base64 = btoa(String.fromCharCode.apply(null, chunk));\n",
              "      yield {\n",
              "        response: {\n",
              "          action: 'append',\n",
              "          file: file.name,\n",
              "          data: base64,\n",
              "        },\n",
              "      };\n",
              "\n",
              "      let percentDone = fileData.byteLength === 0 ?\n",
              "          100 :\n",
              "          Math.round((position / fileData.byteLength) * 100);\n",
              "      percent.textContent = `${percentDone}% done`;\n",
              "\n",
              "    } while (position < fileData.byteLength);\n",
              "  }\n",
              "\n",
              "  // All done.\n",
              "  yield {\n",
              "    response: {\n",
              "      action: 'complete',\n",
              "    }\n",
              "  };\n",
              "}\n",
              "\n",
              "scope.google = scope.google || {};\n",
              "scope.google.colab = scope.google.colab || {};\n",
              "scope.google.colab._files = {\n",
              "  _uploadFiles,\n",
              "  _uploadFilesContinue,\n",
              "};\n",
              "})(self);\n",
              "</script> "
            ]
          },
          "metadata": {}
        },
        {
          "output_type": "stream",
          "name": "stdout",
          "text": [
            "Saving IMG_8362.heic to IMG_8362 (1).heic\n",
            "Uploaded file: IMG_8362 (1).heic\n"
          ]
        }
      ]
    },
    {
      "cell_type": "markdown",
      "source": [
        " 11. Write a Python function that takes a list of numbers as input and returns the sum of all even numbers in\n",
        "the list."
      ],
      "metadata": {
        "id": "rIDOu5sQpRwO"
      }
    },
    {
      "cell_type": "code",
      "source": [
        "def sum_of_evens(numbers):\n",
        "    \"\"\"Returns the sum of all even numbers in the list.\"\"\"\n",
        "    return sum(num for num in numbers if num % 2 == 0)\n",
        "\n",
        "# Example usage\n",
        "numbers = [1, 2, 3, 4, 5, 6, 7, 8, 9, 10]\n",
        "result = sum_of_evens(numbers)\n",
        "print(\"Sum of even numbers:\", result)  # Output: 30 (2 + 4 + 6 + 8 + 10)\n"
      ],
      "metadata": {
        "colab": {
          "base_uri": "https://localhost:8080/"
        },
        "id": "i3-0lD__pbT1",
        "outputId": "fd22acdf-c869-4c83-9889-58817408b8cb"
      },
      "execution_count": 3,
      "outputs": [
        {
          "output_type": "stream",
          "name": "stdout",
          "text": [
            "Sum of even numbers: 30\n"
          ]
        }
      ]
    },
    {
      "cell_type": "markdown",
      "source": [
        "12. Create a Python function that accepts a string and returns the reverse of that string."
      ],
      "metadata": {
        "id": "5EJQUQYupf3m"
      }
    },
    {
      "cell_type": "code",
      "source": [
        "def reverse_string(s):\n",
        "    \"\"\"Returns the reverse of the given string.\"\"\"\n",
        "    return s[::-1]\n",
        "\n",
        "# Example usage\n",
        "text = \"Hello, World!\"\n",
        "result = reverse_string(text)\n",
        "print(\"Reversed string:\", result)  # Output: \"!dlroW ,olleH\"\n"
      ],
      "metadata": {
        "colab": {
          "base_uri": "https://localhost:8080/"
        },
        "id": "MhUVZ5Ycpllp",
        "outputId": "25acd318-0bdf-41c6-e680-d385e31042c7"
      },
      "execution_count": 4,
      "outputs": [
        {
          "output_type": "stream",
          "name": "stdout",
          "text": [
            "Reversed string: !dlroW ,olleH\n"
          ]
        }
      ]
    },
    {
      "cell_type": "markdown",
      "source": [
        "13.  Implement a Python function that takes a list of integers and returns a new list containing the squares of\n",
        "each number."
      ],
      "metadata": {
        "id": "NZPvrP6ipuv5"
      }
    },
    {
      "cell_type": "code",
      "source": [
        "def square_numbers(numbers):\n",
        "    \"\"\"Returns a new list with the squares of each number.\"\"\"\n",
        "    return [num ** 2 for num in numbers]\n",
        "numbers = [1, 2, 3, 4, 5]\n",
        "squared_list = square_numbers(numbers)\n",
        "print(\"Squared numbers:\", squared_list)\n"
      ],
      "metadata": {
        "colab": {
          "base_uri": "https://localhost:8080/"
        },
        "id": "vuSLMCZap0P4",
        "outputId": "bce94070-eac1-4885-d851-4b178ccc9583"
      },
      "execution_count": 5,
      "outputs": [
        {
          "output_type": "stream",
          "name": "stdout",
          "text": [
            "Squared numbers: [1, 4, 9, 16, 25]\n"
          ]
        }
      ]
    },
    {
      "cell_type": "code",
      "source": [
        "#Write a Python function that checks if a given number is prime or not from 1 to 200\n",
        "def is_prime(n):\n",
        "    \"\"\"Checks if a number is prime.\"\"\"\n",
        "    if n < 2:\n",
        "        return False\n",
        "    for i in range(2, int(n ** 0.5) + 1):\n",
        "        if n % i == 0:\n",
        "            return False\n",
        "    return True\n",
        "\n",
        "# Testing the function\n",
        "for num in range(1, 201):\n",
        "    if is_prime(num):\n",
        "        print(num, end=\" \")\n"
      ],
      "metadata": {
        "colab": {
          "base_uri": "https://localhost:8080/"
        },
        "id": "pg_5jYzaqpH3",
        "outputId": "e112ac1f-27da-42c9-d390-3321ea3a8873"
      },
      "execution_count": 6,
      "outputs": [
        {
          "output_type": "stream",
          "name": "stdout",
          "text": [
            "2 3 5 7 11 13 17 19 23 29 31 37 41 43 47 53 59 61 67 71 73 79 83 89 97 101 103 107 109 113 127 131 137 139 149 151 157 163 167 173 179 181 191 193 197 199 "
          ]
        }
      ]
    },
    {
      "cell_type": "code",
      "source": [
        "#Create an iterator class in Python that generates the Fibonacci sequence up to a specified number of\n",
        "#terms.\n",
        "class FibonacciIterator:\n",
        "    \"\"\"Iterator that generates the Fibonacci sequence up to a given number of terms.\"\"\"\n",
        "\n",
        "    def __init__(self, n_terms):\n",
        "        self.n_terms = n_terms\n",
        "        self.a, self.b = 0, 1\n",
        "        self.count = 0\n",
        "\n",
        "    def __iter__(self):\n",
        "        return self\n",
        "\n",
        "    def __next__(self):\n",
        "        if self.count >= self.n_terms:\n",
        "            raise StopIteration\n",
        "        if self.count == 0:\n",
        "            self.count += 1\n",
        "            return self.a\n",
        "        elif self.count == 1:\n",
        "            self.count += 1\n",
        "            return self.b\n",
        "        else:\n",
        "            fib = self.a + self.b\n",
        "            self.a, self.b = self.b, fib\n",
        "            self.count += 1\n",
        "            return fib\n",
        "\n",
        "n = 10\n",
        "fib_iterator = FibonacciIterator(n)\n",
        "\n",
        "for num in fib_iterator:\n",
        "    print(num, end=\" \")\n"
      ],
      "metadata": {
        "colab": {
          "base_uri": "https://localhost:8080/"
        },
        "id": "V4Ser7KFq5aw",
        "outputId": "b63ecd66-49e4-46b0-c8de-a8a24026e682"
      },
      "execution_count": 7,
      "outputs": [
        {
          "output_type": "stream",
          "name": "stdout",
          "text": [
            "0 1 1 2 3 5 8 13 21 34 "
          ]
        }
      ]
    },
    {
      "cell_type": "code",
      "source": [
        "# Write a generator function in Python that yields the powers of 2 up to a given exponent.\n",
        "def powers_of_two(n):\n",
        "    \"\"\"Yields powers of 2 from 2^0 to 2^n.\"\"\"\n",
        "    for exponent in range(n + 1):\n",
        "        yield 2 ** exponent\n",
        "n = 5\n",
        "for power in powers_of_two(n):\n",
        "    print(power, end=\" \")\n"
      ],
      "metadata": {
        "colab": {
          "base_uri": "https://localhost:8080/"
        },
        "id": "JyC1sTg9rX1n",
        "outputId": "c8ded577-9c69-471e-9353-bbdcc42c0ce8"
      },
      "execution_count": 8,
      "outputs": [
        {
          "output_type": "stream",
          "name": "stdout",
          "text": [
            "1 2 4 8 16 32 "
          ]
        }
      ]
    },
    {
      "cell_type": "code",
      "source": [
        "#Implement a generator function that reads a file line by line and yields each line as a string.\n",
        "#def read_lines(file_path):\n",
        "# Create a sample text file\n",
        "file_path = \"sample.txt\"\n",
        "\n",
        "with open(file_path, \"w\") as file:\n",
        "    file.write(\"Hello, World!\\n\")\n",
        "    file.write(\"This is a test file.\\n\")\n",
        "    file.write(\"Each line will be read one by one.\\n\")\n",
        "    file.write(\"Python generators are memory-efficient!\\n\")\n",
        "\n",
        "print(\"Sample file created successfully!\")\n"
      ],
      "metadata": {
        "colab": {
          "base_uri": "https://localhost:8080/"
        },
        "id": "TfNnADKur8qe",
        "outputId": "14de97db-ae97-442a-e1f7-58262071f18a"
      },
      "execution_count": 27,
      "outputs": [
        {
          "output_type": "stream",
          "name": "stdout",
          "text": [
            "Sample file created successfully!\n"
          ]
        }
      ]
    },
    {
      "cell_type": "code",
      "source": [
        "# Use a lambda function in Python to sort a list of tuples based on the second element of each tuple.\n",
        "# Sample list of tuples\n",
        "data = [(1, 5), (3, 2), (4, 8), (2, 1), (5, 3)]\n",
        "sorted_data = sorted(data, key=lambda x: x[1])\n",
        "print(sorted_data)"
      ],
      "metadata": {
        "colab": {
          "base_uri": "https://localhost:8080/"
        },
        "id": "nCf0fBiYsdTD",
        "outputId": "f0dd2866-a0ad-429f-ce43-0966bcd4d0bb"
      },
      "execution_count": 28,
      "outputs": [
        {
          "output_type": "stream",
          "name": "stdout",
          "text": [
            "[(2, 1), (3, 2), (5, 3), (1, 5), (4, 8)]\n"
          ]
        }
      ]
    },
    {
      "cell_type": "code",
      "source": [
        "#Write a Python program that uses `map()` to convert a list of temperatures from Celsius to Fahrenheit.\n",
        "# Function to convert Celsius to Fahrenheit\n",
        "celsius_to_fahrenheit = lambda c: (c * 9/5) + 32\n",
        "celsius_temps = [0, 20, 30, 37, 100]\n",
        "fahrenheit_temps = list(map(celsius_to_fahrenheit, celsius_temps))\n",
        "print(\"Celsius:\", celsius_temps)\n",
        "print(\"Fahrenheit:\", fahrenheit_temps)\n"
      ],
      "metadata": {
        "colab": {
          "base_uri": "https://localhost:8080/"
        },
        "id": "yh_scD88y6_Y",
        "outputId": "ba16c356-6028-4d93-97df-8922d2bc2269"
      },
      "execution_count": 29,
      "outputs": [
        {
          "output_type": "stream",
          "name": "stdout",
          "text": [
            "Celsius: [0, 20, 30, 37, 100]\n",
            "Fahrenheit: [32.0, 68.0, 86.0, 98.6, 212.0]\n"
          ]
        }
      ]
    },
    {
      "cell_type": "code",
      "source": [
        "# Create a Python program that uses `filter()` to remove all the vowels from a given string\n",
        "# Function to check if a character is NOT a vowel\n",
        "is_consonant = lambda char: char.lower() not in \"aeiou\"\n",
        "input_string = \"Hello, this is a Python program!\"\n",
        "filtered_string = \"\".join(filter(is_consonant, input_string))\n",
        "print(\"Original String:\", input_sing)\n",
        "print(\"Without Vowels:\", filtered_string)\n"
      ],
      "metadata": {
        "colab": {
          "base_uri": "https://localhost:8080/"
        },
        "id": "2qwI-xozzHYs",
        "outputId": "8b4c6786-b960-4c6e-94fd-b24cbac0276c"
      },
      "execution_count": 30,
      "outputs": [
        {
          "output_type": "stream",
          "name": "stdout",
          "text": [
            "Original String: Hello, this is a Python program!\n",
            "Without Vowels: Hll, ths s  Pythn prgrm!\n"
          ]
        }
      ]
    },
    {
      "cell_type": "code",
      "source": [
        "#question no. 11 ans\n",
        "# Sample order list: [Order Number, Price per Item, Quantity]\n",
        "orders = [\n",
        "    [34587, 4.50, 20],\n",
        "    [98762, 15.00, 3],\n",
        "    [77226, 8.00, 7],\n",
        "    [88112, 22.00, 2]\n",
        "]\n",
        "\n",
        "process_order = lambda order: (order[0], order[1] * order[2] + (10 if order[1] * order[2] < 100 else 0))\n",
        "\n",
        "processed_orders = list(map(process_order, orders))\n",
        "\n",
        "print(processed_orders)\n"
      ],
      "metadata": {
        "colab": {
          "base_uri": "https://localhost:8080/"
        },
        "id": "Tda8JZTEzVAQ",
        "outputId": "4e741af5-139d-4f8e-bfe6-1c1ec2503bef"
      },
      "execution_count": 35,
      "outputs": [
        {
          "output_type": "stream",
          "name": "stdout",
          "text": [
            "[(34587, 100.0), (98762, 55.0), (77226, 66.0), (88112, 54.0)]\n"
          ]
        }
      ]
    }
  ]
}